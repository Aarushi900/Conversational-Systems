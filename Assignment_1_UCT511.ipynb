{
  "nbformat": 4,
  "nbformat_minor": 0,
  "metadata": {
    "colab": {
      "provenance": [],
      "authorship_tag": "ABX9TyOGoEZWmE6auvGk88uStRye",
      "include_colab_link": true
    },
    "kernelspec": {
      "name": "python3",
      "display_name": "Python 3"
    },
    "language_info": {
      "name": "python"
    }
  },
  "cells": [
    {
      "cell_type": "markdown",
      "metadata": {
        "id": "view-in-github",
        "colab_type": "text"
      },
      "source": [
        "<a href=\"https://colab.research.google.com/github/Aarushi900/Conversational-Systems/blob/main/Assignment_1_UCT511.ipynb\" target=\"_parent\"><img src=\"https://colab.research.google.com/assets/colab-badge.svg\" alt=\"Open In Colab\"/></a>"
      ]
    },
    {
      "cell_type": "markdown",
      "source": [
        "1. Write a Python program to find average of three numbers entered by the user."
      ],
      "metadata": {
        "id": "cQsiyf-nqtvr"
      }
    },
    {
      "cell_type": "code",
      "execution_count": null,
      "metadata": {
        "colab": {
          "base_uri": "https://localhost:8080/"
        },
        "id": "2nJuJNC9qoXt",
        "outputId": "a1c546b7-a157-4ada-e846-9e24d8ac1acc"
      },
      "outputs": [
        {
          "output_type": "stream",
          "name": "stdout",
          "text": [
            "Enter first number: 13\n",
            "Enter second number: 45\n",
            "Enter third number: 2348\n",
            "Average of the entered numbers:  802.0\n"
          ]
        }
      ],
      "source": [
        "a=int(input(\"Enter first number: \"))\n",
        "b=int(input(\"Enter second number: \"))\n",
        "c=int(input(\"Enter third number: \"))\n",
        "\n",
        "\n",
        "s=a+b+c\n",
        "avg= s/3;\n",
        "\n",
        "print(\"Average of the entered numbers: \", avg)"
      ]
    },
    {
      "cell_type": "markdown",
      "source": [
        "2. Write a python program to compute a person's income tax. Assume following\n",
        "tax laws:\n",
        "• All taxpayers are charged a flat tax rate of 20%.\n",
        "\n",
        "• All taxpayers are allowed a 10,000 standard deduction.\n",
        "\n",
        "• For each dependent, a taxpayer is allowed an additional 3,000 deduction.\n",
        "\n",
        "• Gross income must be entered to the nearest penny.\n",
        "\n",
        "Gross Income and the number of dependents must be asked from the user.\n",
        "\n",
        "Hint:\n",
        "Taxable income = Gross Income - Standard deduction - (Dependent deduction\n",
        "* No. of dependents)\n",
        "\n",
        "Tax = Taxable Income * Tax Rate"
      ],
      "metadata": {
        "id": "31BI2VEPrb0d"
      }
    },
    {
      "cell_type": "code",
      "source": [
        "gross_income=int(input(\"Enter the gross income: $\"));\n",
        "dependents=int(input(\"Enter the number of dependents: \"));\n",
        "standard_deduction=10000;\n",
        "dependent_deduction=3000;\n",
        "tax_rate=0.20;\n",
        "\n",
        "taxable_income=gross_income - standard_deduction - (dependent_deduction * dependents);\n",
        "tax =taxable_income*tax_rate;\n",
        "\n",
        "print(\"Taxable income is: $\",taxable_income);\n",
        "print(\"Tax generated is: $\",tax);"
      ],
      "metadata": {
        "colab": {
          "base_uri": "https://localhost:8080/"
        },
        "id": "vL_mg1dgrfM5",
        "outputId": "47ea7172-9c76-4b03-c8fb-cf7b864330ec"
      },
      "execution_count": null,
      "outputs": [
        {
          "output_type": "stream",
          "name": "stdout",
          "text": [
            "Enter the gross income: $230000000\n",
            "Enter the number of dependents: 4\n",
            "Taxable income is: $ 229978000\n",
            "Tax generated is: $ 45995600.0\n"
          ]
        }
      ]
    },
    {
      "cell_type": "markdown",
      "source": [
        "Write a python program to store different data type values into a list. (For an\n",
        "example: Student [SID, Name, Gender, Course Name, CGPA]).\n",
        "\n",
        "Note: Use Gender values: ‘F’, ‘M’, ‘U’ (For Unknown).\n",
        "\n",
        "CGPA should have floating type values (example: 7.5)."
      ],
      "metadata": {
        "id": "mUbViDZ5v-xm"
      }
    },
    {
      "cell_type": "code",
      "source": [
        "def inp_cgpa():\n",
        "  while True:\n",
        "\n",
        "    try:\n",
        "      cgpa = float(input(\"Enter CGPA: \"))\n",
        "      if 0 <= cgpa <= 10.0:\n",
        "        return cgpa;\n",
        "      else:\n",
        "        print(\"CGPA should be between 0 and 10\");\n",
        "    except:\n",
        "      print(\"Invalid input. Please enter a valid CGPA (for example: 7.5)\");\n",
        "\n",
        "students = []\n",
        "num = int(input(\"Enter the number of students: \"))\n",
        "\n",
        "for i in range(num):\n",
        "  sid = input(\"Enter Student ID: \");\n",
        "  name = input(\"Enter Student name: \");\n",
        "  gender = input(\"Enter Student gender (F/M/U): \");\n",
        "  course_name = input(\"Enter Course Name: \");\n",
        "  cgpa = inp_cgpa();\n",
        "\n",
        "  student_data = [sid,name,gender,course_name,cgpa];\n",
        "  students.append(student_data)\n",
        "\n",
        "\n",
        "# Printing the records\n",
        "\n",
        "for student in students:\n",
        "  print(\"SID: \",student[0]);\n",
        "  print(\"Name: \",student[1]);\n",
        "  print(\"Gender: \",student[2]);\n",
        "  print(\"Course Name: \",student[3]);\n",
        "  print(\"CGPA: \",student[4]);\n",
        "  print()"
      ],
      "metadata": {
        "id": "r_b0GsADwFOl"
      },
      "execution_count": null,
      "outputs": []
    },
    {
      "cell_type": "markdown",
      "source": [
        "4. Write a python program to enter marks of 5 students into a list and display\n",
        "them in sorted manner."
      ],
      "metadata": {
        "id": "xkrv_CzLt0sd"
      }
    },
    {
      "cell_type": "code",
      "source": [
        "def inp_marks():\n",
        "  while True:\n",
        "    try:\n",
        "      m = float(input(\"Enter marks: \"))\n",
        "      if 0 <= m:\n",
        "        return m;\n",
        "      else:\n",
        "        print(\"Marks should be greater than 0\");\n",
        "    except:\n",
        "      print(\"Invalid input. Please enter valid marks (for example: 75.5)\");\n",
        "\n",
        "students_marks=[]\n",
        "for i in range(5):\n",
        "  id=input(\"Enter the student ID: \")\n",
        "  marks=inp_marks()\n",
        "  s=[id,marks]\n",
        "  student_marks.append(s);\n",
        "\n",
        "\n",
        "student_marks = sorted(student_marks, key = lambda x: x[1]);\n",
        "\n",
        "# Printing records in sorted order\n",
        "print(\"Sorted Student Marks( in ascending order): \")\n",
        "for s in student_marks:\n",
        "  print(\"Student ID: \",s[0]);\n",
        "  print(\"Marks: \",s[1]);\n",
        "  print();"
      ],
      "metadata": {
        "id": "JFEz0Gjmt3-_"
      },
      "execution_count": null,
      "outputs": []
    },
    {
      "cell_type": "markdown",
      "source": [
        "5. List: color ['Red', 'Green', 'White', 'Black', 'Pink', 'Yellow']\n",
        "\n",
        "a. Write a Python program to print a specified list after removing 4th element.\n",
        "\n",
        "Expected output: color [Red', 'Green', 'White', 'Pink', 'Yellow']\n",
        "\n",
        "b. Remove ‘Black’ and ‘Pink’ from the list and replace them with ‘Purple’.\n",
        "\n",
        "Do that in one line code."
      ],
      "metadata": {
        "id": "wF-8SUfdBlGa"
      }
    },
    {
      "cell_type": "code",
      "source": [
        "color=['Red','Green','White','Black','Pink','Yellow']\n",
        "color.pop(3)\n",
        "print(\"color = \",color)"
      ],
      "metadata": {
        "id": "6bqiVDVVBrJP",
        "colab": {
          "base_uri": "https://localhost:8080/"
        },
        "outputId": "6bb972d5-b82b-4ceb-99cb-785c2fea7106"
      },
      "execution_count": 2,
      "outputs": [
        {
          "output_type": "stream",
          "name": "stdout",
          "text": [
            "color =  ['Red', 'Green', 'White', 'Pink', 'Yellow']\n"
          ]
        }
      ]
    },
    {
      "cell_type": "code",
      "source": [
        "color=['Red','Green','White','Black','Pink','Yellow']\n",
        "color=[c if c not in ['Black','Pink'] else 'Purple' for c in color]\n",
        "# if want to have only one 'Purple'\n",
        "#color.remove('Purple')\n",
        "print(\"color = \",color)"
      ],
      "metadata": {
        "colab": {
          "base_uri": "https://localhost:8080/"
        },
        "id": "Q1gR_LPK1Lvt",
        "outputId": "a2333a25-aa3a-441a-8c25-a1aae4dc4fe6"
      },
      "execution_count": 3,
      "outputs": [
        {
          "output_type": "stream",
          "name": "stdout",
          "text": [
            "color =  ['Red', 'Green', 'White', 'Purple', 'Purple', 'Yellow']\n"
          ]
        }
      ]
    }
  ]
}