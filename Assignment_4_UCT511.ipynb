{
  "nbformat": 4,
  "nbformat_minor": 0,
  "metadata": {
    "colab": {
      "provenance": [],
      "authorship_tag": "ABX9TyP2N2cEz64eh+TAgUKxVe3C",
      "include_colab_link": true
    },
    "kernelspec": {
      "name": "python3",
      "display_name": "Python 3"
    },
    "language_info": {
      "name": "python"
    }
  },
  "cells": [
    {
      "cell_type": "markdown",
      "metadata": {
        "id": "view-in-github",
        "colab_type": "text"
      },
      "source": [
        "<a href=\"https://colab.research.google.com/github/Aarushi900/Conversational-Systems/blob/main/Assignment_4_UCT511.ipynb\" target=\"_parent\"><img src=\"https://colab.research.google.com/assets/colab-badge.svg\" alt=\"Open In Colab\"/></a>"
      ]
    },
    {
      "cell_type": "markdown",
      "source": [
        "# Assignment 4"
      ],
      "metadata": {
        "id": "c6McRE1d_hcX"
      }
    },
    {
      "cell_type": "markdown",
      "source": [
        "1. A school has following rules for grading system:\n",
        "\n",
        "a. Below 25 - F\n",
        "\n",
        "b. 25 to 45 - E\n",
        "\n",
        "c. 45 to 50 - D\n",
        "\n",
        "d. 50 to 60 - C\n",
        "\n",
        "e. 60 to 80 - B\n",
        "\n",
        "f. Above 80 - A\n",
        "\n",
        "Ask user to enter marks and print the corresponding grade."
      ],
      "metadata": {
        "id": "TyaRxdfQ_2yA"
      }
    },
    {
      "cell_type": "code",
      "execution_count": null,
      "metadata": {
        "id": "S2eBzaNv_fwW"
      },
      "outputs": [],
      "source": [
        "marks = int(input(\"Enter the marks : \"))\n",
        "grade = 'A'\n",
        "\n",
        "if(marks<25):\n",
        "  grade= 'F'\n",
        "else if(marks<45):\n",
        "  grade = 'E'\n",
        "else if(marks<50):\n",
        "  grade = 'D'\n",
        "else if(marks<60):\n",
        "  grade = 'C'\n",
        "else if(marks<80):\n",
        "  grade = 'B'\n",
        "else if(marks>=80):\n",
        "  grade = 'A'\n",
        "\n",
        "print(\"The corresponding grade is : \",grade)"
      ]
    },
    {
      "cell_type": "markdown",
      "source": [
        "2. A year is a leap year if it is divisible by 4, except that years divisible by 100 are not\n",
        "leap years unless they are also divisible by 400. Write a program that asks the user\n",
        "for a year and prints out whether it is a leap year or not."
      ],
      "metadata": {
        "id": "JAxuozlnBgA9"
      }
    },
    {
      "cell_type": "code",
      "source": [
        "year = int(input(\"Enter the year : \"))\n",
        "if(year%4 != 0):\n",
        "  print(\"Not a Leap Year!!!\")\n",
        "else:\n",
        "  if(year%100 != 0):\n",
        "    print(\"Leap Year!!!\")\n",
        "  else:\n",
        "    if(year%400==0):\n",
        "      print(\"Leap Year!!!\")\n",
        "    else:\n",
        "      print(\"Not a Leap Year!!!\")"
      ],
      "metadata": {
        "colab": {
          "base_uri": "https://localhost:8080/"
        },
        "id": "eStJChrfBj4S",
        "outputId": "36e28e2e-a7ca-4475-bae5-1704a44e78b4"
      },
      "execution_count": 2,
      "outputs": [
        {
          "output_type": "stream",
          "name": "stdout",
          "text": [
            "Enter the year : 2400\n",
            "Leap Year!!!\n"
          ]
        }
      ]
    },
    {
      "cell_type": "markdown",
      "source": [
        "3. Write a multiplication game program for kids. The program should give the player\n",
        "ten randomly generated multiplication questions to do. After each, the program\n",
        "should tell them whether they got it right or wrong and what the correct answer is.\n",
        "\n",
        "Question 1: 3 x 4 = 12\n",
        "\n",
        "Right!\n",
        "\n",
        "\n",
        "Question 2: 8 x 6 = 44\n",
        "\n",
        "Wrong. The answer is 48.\n",
        "\n",
        "...\n",
        "\n",
        "...\n",
        "\n",
        "Question 10: 7 x 7 = 49\n",
        "\n",
        "Right."
      ],
      "metadata": {
        "id": "XVlv0QVvER2F"
      }
    },
    {
      "cell_type": "code",
      "source": [
        "import random\n",
        "i = 10\n",
        "n=int(input(\"Enter the maximum range for the tables: \"))\n",
        "while(i>0):\n",
        "  a=random.randint(0,n)\n",
        "  b=random.randint(0,n)\n",
        "  out=int(input(f\"{a} X {b} = \"))\n",
        "  if(out==a*b):\n",
        "    print(\"Right!\")\n",
        "  else:\n",
        "    print(f\"Wrong. The answer is {a*b}\")\n",
        "  i=i-1"
      ],
      "metadata": {
        "colab": {
          "base_uri": "https://localhost:8080/"
        },
        "id": "AbcfvaoFEh0J",
        "outputId": "ac4ccd56-4e33-4e5a-eca6-797d2bb7d394"
      },
      "execution_count": 6,
      "outputs": [
        {
          "output_type": "stream",
          "name": "stdout",
          "text": [
            "Enter the maximum range for the tables: 100\n",
            "84 X 89 = 678\n",
            "Wrong. The answer is 7476\n",
            "49 X 79 = 3871\n",
            "Right!\n",
            "83 X 25 = 2075\n",
            "Right!\n",
            "31 X 76 = 2356\n",
            "Right!\n",
            "28 X 68 = 1904\n",
            "Right!\n",
            "89 X 86 = 7654\n",
            "Right!\n",
            "78 X 60 = 4680\n",
            "Right!\n",
            "51 X 36 = 1836\n",
            "Right!\n",
            "3 X 69 = 207\n",
            "Right!\n",
            "43 X 69 = 2967\n",
            "Right!\n"
          ]
        }
      ]
    },
    {
      "cell_type": "markdown",
      "source": [
        "4. A jar of Halloween candy contains an unknown amount of candy and if you can\n",
        "guess exactly how much candy is in the bowl, then you win all the candy. You ask\n",
        "the person in charge the following: If the candy is divided evenly among 5 people,\n",
        "how many pieces would be left over? The answer is 2 pieces. You then ask about\n",
        "dividing the candy evenly among 6 people, and the amount left over is 3 pieces.\n",
        "Finally, you ask about dividing the candy evenly among 7 people, and the amount\n",
        "left over is 2 pieces. By looking at the bowl, you can tell that there are less than\n",
        "200 pieces. Write a program to determine how many pieces are in the bowl."
      ],
      "metadata": {
        "id": "BcFRB3kXHZA6"
      }
    },
    {
      "cell_type": "code",
      "source": [
        "n=1\n",
        "for i in range(1,200):\n",
        "  if i%5==2 and i%6==3 and i%7==2:\n",
        "    n=i\n",
        "    break\n",
        "print(\"The number of pieces of candy in the bowl are \",n)"
      ],
      "metadata": {
        "colab": {
          "base_uri": "https://localhost:8080/"
        },
        "id": "LsnFXfJJHwjB",
        "outputId": "aefd9697-989f-46bd-c21e-39e6437fb4e6"
      },
      "execution_count": 7,
      "outputs": [
        {
          "output_type": "stream",
          "name": "stdout",
          "text": [
            "The number of pieces of candy in the bowl are  177\n"
          ]
        }
      ]
    }
  ]
}