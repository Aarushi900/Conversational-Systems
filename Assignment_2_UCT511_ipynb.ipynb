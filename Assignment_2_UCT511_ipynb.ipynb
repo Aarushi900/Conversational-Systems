{
  "nbformat": 4,
  "nbformat_minor": 0,
  "metadata": {
    "colab": {
      "provenance": [],
      "authorship_tag": "ABX9TyP6WVI5TGJQaO9LaypS7Atk",
      "include_colab_link": true
    },
    "kernelspec": {
      "name": "python3",
      "display_name": "Python 3"
    },
    "language_info": {
      "name": "python"
    }
  },
  "cells": [
    {
      "cell_type": "markdown",
      "metadata": {
        "id": "view-in-github",
        "colab_type": "text"
      },
      "source": [
        "<a href=\"https://colab.research.google.com/github/Aarushi900/Conversational-Systems/blob/main/Assignment_2_UCT511_ipynb.ipynb\" target=\"_parent\"><img src=\"https://colab.research.google.com/assets/colab-badge.svg\" alt=\"Open In Colab\"/></a>"
      ]
    },
    {
      "cell_type": "markdown",
      "source": [
        "\n",
        "\n",
        "```\n",
        "# Assignment 2\n",
        "```\n",
        "\n"
      ],
      "metadata": {
        "id": "gzkzz29c30tc"
      }
    },
    {
      "cell_type": "markdown",
      "source": [
        "1. For a given input string “Python is a case sensitive language”. Write python\n",
        "code for the following:\n",
        "\n",
        "a. Find the length of the input string.\n",
        "\n",
        "b. Reverse the order of the string in one line code.\n",
        "\n",
        "c. Using Slice function store “a case sensitive” in new string.\n",
        "\n",
        "d. Replace “a case sensitive” with “object oriented”.\n",
        "\n",
        "e. Find index of substring “a” in the given input string.\n",
        "\n",
        "f. Remove the white spaces from the given input string."
      ],
      "metadata": {
        "id": "sHWn7lkh3-LM"
      }
    },
    {
      "cell_type": "code",
      "execution_count": 2,
      "metadata": {
        "colab": {
          "base_uri": "https://localhost:8080/"
        },
        "id": "epCmzCcK3zLN",
        "outputId": "64ae8a7a-ce6f-4b5f-c0b4-aed1505fb98f"
      },
      "outputs": [
        {
          "output_type": "execute_result",
          "data": {
            "text/plain": [
              "35"
            ]
          },
          "metadata": {},
          "execution_count": 2
        }
      ],
      "source": [
        "S = \"Python is a case sensitive language\"\n",
        "len(S)"
      ]
    },
    {
      "cell_type": "code",
      "source": [
        "reversed_S=S[::-1]\n",
        "print(\"S = \",S)\n",
        "print(\"Reversed S = \",reversed_S)"
      ],
      "metadata": {
        "colab": {
          "base_uri": "https://localhost:8080/"
        },
        "id": "0z3LX23E4Qj2",
        "outputId": "fef52254-812f-4af6-b6ef-9519420a275e"
      },
      "execution_count": 3,
      "outputs": [
        {
          "output_type": "stream",
          "name": "stdout",
          "text": [
            "S =  Python is a case sensitive language\n",
            "Reversed S =  egaugnal evitisnes esac a si nohtyP\n"
          ]
        }
      ]
    },
    {
      "cell_type": "code",
      "source": [
        "#using slice function while putting manual indexes\n",
        "new_S=S[10:26]\n",
        "print(\"New String created using slice function while putting manual indexes = \",new_S)\n",
        "\n",
        "\n",
        "#using slice function without putting manual indexes\n",
        "start_ind=S.find(\"a case sensitive\")\n",
        "end_ind=start_ind+len(\"a case sensitive\")\n",
        "new_S1=S[start_ind:end_ind]\n",
        "print(\"New String created using slice function without putting manual indexes = \",new_S1)"
      ],
      "metadata": {
        "colab": {
          "base_uri": "https://localhost:8080/"
        },
        "id": "FMI7VU5C4tWl",
        "outputId": "27b46d89-9058-4905-9682-78ac6e794adb"
      },
      "execution_count": 8,
      "outputs": [
        {
          "output_type": "stream",
          "name": "stdout",
          "text": [
            "New String created using slice function while putting manual indexes =  a case sensitive\n",
            "New String created using slice function without putting manual indexes =  a case sensitive\n"
          ]
        }
      ]
    },
    {
      "cell_type": "code",
      "source": [
        "new_S2=S.replace(new_S,\"object oriented\")\n",
        "print(\"After replacing = \",new_S2)"
      ],
      "metadata": {
        "colab": {
          "base_uri": "https://localhost:8080/"
        },
        "id": "-4a6HQ766SLg",
        "outputId": "c91cefac-8af4-4a37-e267-58e777fdccc5"
      },
      "execution_count": 9,
      "outputs": [
        {
          "output_type": "stream",
          "name": "stdout",
          "text": [
            "After replacing =  Python is object oriented language\n"
          ]
        }
      ]
    },
    {
      "cell_type": "code",
      "source": [
        "ind_of_a = S.find(\"a\")\n",
        "print(\"Index of a in input string: \",ind_of_a)"
      ],
      "metadata": {
        "colab": {
          "base_uri": "https://localhost:8080/"
        },
        "id": "gh3UqMDX7kYI",
        "outputId": "0430c6bb-2bc9-4667-8370-d7379f98a593"
      },
      "execution_count": 10,
      "outputs": [
        {
          "output_type": "stream",
          "name": "stdout",
          "text": [
            "Index of a in input string:  10\n"
          ]
        }
      ]
    },
    {
      "cell_type": "code",
      "source": [
        "new_S3 = S.replace(\" \",\"\")\n",
        "print(\"String without spaces: \",new_S3)"
      ],
      "metadata": {
        "colab": {
          "base_uri": "https://localhost:8080/"
        },
        "id": "uiXnmFdD7yJ2",
        "outputId": "12674040-b9e3-4779-a37b-fe36841a4dcb"
      },
      "execution_count": 3,
      "outputs": [
        {
          "output_type": "stream",
          "name": "stdout",
          "text": [
            "String without spaces:  Pythonisacasesensitivelanguage\n"
          ]
        }
      ]
    },
    {
      "cell_type": "markdown",
      "source": [
        "2. Store your name, SID, department name and CGPA into different variables.\n",
        "With the help of String formatting print the following output:\n",
        "\n",
        "Hey, ABC Here!\n",
        "\n",
        "My SID is 2110XXXX\n",
        "\n",
        "I am from XYZ department and my CGPA is 9.9"
      ],
      "metadata": {
        "id": "uqULeoEy0QBg"
      }
    },
    {
      "cell_type": "code",
      "source": [
        "name=input(\"Enter name: \")\n",
        "sid=input(\"Enter SID: \")\n",
        "dept=input(\"Enter department: \")\n",
        "cgpa=input(\"Enter CGPA: \")\n",
        "\n",
        "f_string = f\"Hey! {name} Here!\\n My SID is {sid}\\n I am from {dept} department and my CGPA is {cgpa}\"\n",
        "\n",
        "print(\"output is:\\n\",f_string)"
      ],
      "metadata": {
        "colab": {
          "base_uri": "https://localhost:8080/"
        },
        "id": "7HkaXxNk0g9u",
        "outputId": "709d1c73-97ed-40c1-853a-b45464aafa97"
      },
      "execution_count": 6,
      "outputs": [
        {
          "output_type": "stream",
          "name": "stdout",
          "text": [
            "Enter name: ABC\n",
            "Enter SID: 2110XXX\n",
            "Enter department: XYZ\n",
            "Enter CGPA: 9.9\n",
            "output is:\n",
            " Hey! ABC Here!\n",
            " My SID is 2110XXX\n",
            " I am from XYZ department and my CGPA is 9.9\n"
          ]
        }
      ]
    },
    {
      "cell_type": "markdown",
      "source": [
        "3. For a=56 and b=10 with the help of bitwise operators calculate the following:\n",
        "\n",
        "a. a&b\n",
        "\n",
        "b. a|b\n",
        "\n",
        "c. a^b\n",
        "\n",
        "d. Left shift both a and b with 2 bits.\n",
        "\n",
        "e. Right shift a with 2 bits and b with 4 bits."
      ],
      "metadata": {
        "id": "H2WMIenD1Gpu"
      }
    },
    {
      "cell_type": "code",
      "source": [
        "a=56\n",
        "b=10\n",
        "\n",
        "a_and_b= a & b\n",
        "a_or_b= a | b\n",
        "a_xor_b= a ^ b\n",
        "a_left = a << 2\n",
        "b_left = b << 2\n",
        "a_right = a >> 4\n",
        "b_right = b >> 4\n",
        "print(\"a & b : \",a_and_b)\n",
        "print(\"a | b : \",a_or_b)\n",
        "print(\"a ^ b : \",a_xor_b)\n",
        "print(\"Left shift a with 2 bits : \",a_left)\n",
        "print(\"Left shift b with 2 bits : \",b_left)\n",
        "print(\"Right shift a with 4 bits : \",a_right)\n",
        "print(\"Right shift b with 4 bits : \",b_right)"
      ],
      "metadata": {
        "colab": {
          "base_uri": "https://localhost:8080/"
        },
        "id": "oYfqAFnK1l9C",
        "outputId": "a917292d-ebcc-44eb-ca79-c0cc85dc8847"
      },
      "execution_count": 7,
      "outputs": [
        {
          "output_type": "stream",
          "name": "stdout",
          "text": [
            "a & b :  8\n",
            "a | b :  58\n",
            "a ^ b :  50\n",
            "Left shift a with 2 bits :  224\n",
            "Left shift b with 2 bits :  40\n",
            "Right shift a with 4 bits :  3\n",
            "Right shift b with 4 bits :  0\n"
          ]
        }
      ]
    },
    {
      "cell_type": "markdown",
      "source": [
        "4. Write a python program to check if the word “name” is present in the string\n",
        "entered by the user (Print : “Yes” or “No”)."
      ],
      "metadata": {
        "id": "B4Bm7BP125pb"
      }
    },
    {
      "cell_type": "code",
      "source": [
        "input_string = input(\"Enter the string: \")\n",
        "if input_string.find(\"name\") != -1:\n",
        "  print(\"Yes\")\n",
        "else:\n",
        "  print(\"No\")"
      ],
      "metadata": {
        "colab": {
          "base_uri": "https://localhost:8080/"
        },
        "id": "TGo2b-km2-Kh",
        "outputId": "d376729c-09a1-4e26-fd3f-da248ab7376a"
      },
      "execution_count": 9,
      "outputs": [
        {
          "output_type": "stream",
          "name": "stdout",
          "text": [
            "Enter the string: My name is Aarushi\n",
            "Yes\n"
          ]
        }
      ]
    },
    {
      "cell_type": "markdown",
      "source": [
        "5. For any three lengths, there is a simple test to see if it is possible to form a\n",
        "triangle. If any of the three lengths is greater than the sum of the other two,\n",
        "then you cannot form a triangle. Otherwise, Enter three sides of a triangle,\n",
        "converts them to integers, and to check whether the given input lengths can\n",
        "form a triangle or not (Print : “Yes” or “No”).[Don’t use if else here]."
      ],
      "metadata": {
        "id": "5UQC2-3f3dP-"
      }
    },
    {
      "cell_type": "code",
      "source": [
        "a = int(input(\"Enter the value of first side: \"))\n",
        "b = int(input(\"Enter the value of second side: \"))\n",
        "c = int(input(\"Enter the value of third side: \"))\n",
        "\n",
        "result = {\n",
        "    True : 'Yes',\n",
        "    False : 'No'\n",
        "}\n",
        "\n",
        "condition = a + b > c and b + c > a and c + a > b\n",
        "print(result[condition])"
      ],
      "metadata": {
        "colab": {
          "base_uri": "https://localhost:8080/"
        },
        "id": "WAD0jZxk3gEw",
        "outputId": "6981f7bb-ade6-4e10-e249-3e25f9c247ee"
      },
      "execution_count": 11,
      "outputs": [
        {
          "output_type": "stream",
          "name": "stdout",
          "text": [
            "Enter the value of first side: 12\n",
            "Enter the value of second side: 5\n",
            "Enter the value of third side: 13\n",
            "Yes\n"
          ]
        }
      ]
    },
    {
      "cell_type": "markdown",
      "source": [
        "6. Given two numbers ‘a’ and b’. Write a program to count number of bits\n",
        "needed to be flipped to convert ‘a’ to ‘b’."
      ],
      "metadata": {
        "id": "btV6iY6r4lzJ"
      }
    },
    {
      "cell_type": "code",
      "source": [
        "a=int(input(\"Enter the value of a: \"))\n",
        "b=int(input(\"Enter the value of b: \"))\n",
        "\n",
        "xor_result = a^b\n",
        "count=0\n",
        "while xor_result:\n",
        "  count += xor_result & 1\n",
        "  xor_result >>= 1\n",
        "\n",
        "\n",
        "print(\"No of digits that need to be flipped are: \",count)"
      ],
      "metadata": {
        "colab": {
          "base_uri": "https://localhost:8080/"
        },
        "id": "4d7z4I-a4pBS",
        "outputId": "da5ad0a9-2076-485f-a9b5-c88f66128350"
      },
      "execution_count": 14,
      "outputs": [
        {
          "output_type": "stream",
          "name": "stdout",
          "text": [
            "Enter the value of a: 3\n",
            "Enter the value of b: 4\n",
            "No of digits that need to be flipped are:  3\n"
          ]
        }
      ]
    }
  ]
}