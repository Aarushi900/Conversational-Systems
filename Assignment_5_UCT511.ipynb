{
  "nbformat": 4,
  "nbformat_minor": 0,
  "metadata": {
    "colab": {
      "provenance": [],
      "authorship_tag": "ABX9TyNcRgtp3oHO+I96r7Cr9mCT",
      "include_colab_link": true
    },
    "kernelspec": {
      "name": "python3",
      "display_name": "Python 3"
    },
    "language_info": {
      "name": "python"
    }
  },
  "cells": [
    {
      "cell_type": "markdown",
      "metadata": {
        "id": "view-in-github",
        "colab_type": "text"
      },
      "source": [
        "<a href=\"https://colab.research.google.com/github/Aarushi900/Conversational-Systems/blob/main/Assignment_5_UCT511.ipynb\" target=\"_parent\"><img src=\"https://colab.research.google.com/assets/colab-badge.svg\" alt=\"Open In Colab\"/></a>"
      ]
    },
    {
      "cell_type": "markdown",
      "source": [
        "# Assignment 5"
      ],
      "metadata": {
        "id": "0hBeMd4HoxDQ"
      }
    },
    {
      "cell_type": "markdown",
      "source": [
        "1. Program to reverse the string."
      ],
      "metadata": {
        "id": "UCnifQSKo2aS"
      }
    },
    {
      "cell_type": "code",
      "execution_count": null,
      "metadata": {
        "colab": {
          "base_uri": "https://localhost:8080/"
        },
        "id": "JjlhDoLXojFb",
        "outputId": "dbb39d3b-dbf2-493c-84e1-abbfe370d935"
      },
      "outputs": [
        {
          "output_type": "stream",
          "name": "stdout",
          "text": [
            "Enter the string: Python is case sensitive\n",
            "Reversed String is  evitisnes esac si nohtyP\n"
          ]
        }
      ],
      "source": [
        "S = input(\"Enter the string: \")\n",
        "rev_S = \"\"\n",
        "for i in S:\n",
        "  rev_S = i + rev_S\n",
        "print(\"Reversed String is \",rev_S)"
      ]
    },
    {
      "cell_type": "markdown",
      "source": [
        "2. Python Program to Print all Numbers in a Range Divisible by a Given Number. (user inputs the range\n",
        "and the number)"
      ],
      "metadata": {
        "id": "5AvMKpYxq1En"
      }
    },
    {
      "cell_type": "code",
      "source": [
        "n=int(input(\"Enter the number: \"))\n",
        "l=int(input(\"Enter the lower limit of range: \"))\n",
        "h=int(input(\"Enter the upper limit of range: \"))\n",
        "for i in range(l,h):\n",
        "  if i%n==0:\n",
        "    print(i,\"  \")"
      ],
      "metadata": {
        "colab": {
          "base_uri": "https://localhost:8080/"
        },
        "id": "8b-ZkhlEq5dI",
        "outputId": "a8749392-2af2-47d4-8bf2-459b81650688"
      },
      "execution_count": null,
      "outputs": [
        {
          "output_type": "stream",
          "name": "stdout",
          "text": [
            "Enter the number: 6\n",
            "Enter the lower limit of range: 4\n",
            "Enter the upper limit of range: 78\n",
            "6   \n",
            "12   \n",
            "18   \n",
            "24   \n",
            "30   \n",
            "36   \n",
            "42   \n",
            "48   \n",
            "54   \n",
            "60   \n",
            "66   \n",
            "72   \n"
          ]
        }
      ]
    },
    {
      "cell_type": "markdown",
      "source": [
        "3. Program to calculate the area of a triangle using heron’s formula. (check condition if the combination of\n",
        "sides is possible)."
      ],
      "metadata": {
        "id": "WOQQeGEYrPmJ"
      }
    },
    {
      "cell_type": "code",
      "source": [
        "import math\n",
        "def check_sides(a,b,c):\n",
        "  if a+b>c and b+c>a and a+c>b:\n",
        "    return True\n",
        "  else:\n",
        "    return False\n",
        "a=int(input(\"Enter a side: \"))\n",
        "b=int(input(\"Enter b side: \"))\n",
        "c=int(input(\"Enter c side: \"))\n",
        "if check_sides(a,b,c):\n",
        "  s=(a+b+c)/2\n",
        "  area=math.sqrt(s*(s-a)*(s-b)*(s-c))\n",
        "  print(\"Area of the triangle is: \",area)\n",
        "else:\n",
        "  print(\"Invalid Triangle!!! Check your sides\")"
      ],
      "metadata": {
        "colab": {
          "base_uri": "https://localhost:8080/"
        },
        "id": "JiJkv1GCrRzT",
        "outputId": "74fb9b24-cc80-4a6b-9d8b-d002e70a5eac"
      },
      "execution_count": null,
      "outputs": [
        {
          "output_type": "stream",
          "name": "stdout",
          "text": [
            "Enter a side: 12\n",
            "Enter b side: 13\n",
            "Enter c side: 5\n",
            "Area of the triangle is:  30.0\n"
          ]
        }
      ]
    },
    {
      "cell_type": "markdown",
      "source": [
        "![image.png](data:image/png;base64,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)"
      ],
      "metadata": {
        "id": "GcJ-AxOqsL_V"
      }
    },
    {
      "cell_type": "code",
      "source": [
        "for i in range(1,6):\n",
        "  for j in range(1, i+1):\n",
        "    print(\"*\",end=\" \")\n",
        "  print()\n",
        "for i in range(4,0,-1):\n",
        "  for j in range(1,i+1):\n",
        "    print(\"*\",end=\" \")\n",
        "  print()"
      ],
      "metadata": {
        "colab": {
          "base_uri": "https://localhost:8080/"
        },
        "id": "GV_5LK-Usa9z",
        "outputId": "eadc79f0-9052-4a6b-a9d8-8d84b3b6cd61"
      },
      "execution_count": null,
      "outputs": [
        {
          "output_type": "stream",
          "name": "stdout",
          "text": [
            "* \n",
            "* * \n",
            "* * * \n",
            "* * * * \n",
            "* * * * * \n",
            "* * * * \n",
            "* * * \n",
            "* * \n",
            "* \n"
          ]
        }
      ]
    },
    {
      "cell_type": "markdown",
      "source": [
        "5. Write a python program to print a triangular pattern of the alphabet (user input the number of rows).\n",
        "Example: Input the number of rows = 5, then the pattern should come out as given below.\n",
        "If the count of the alphabet gets exhausted, repeat the alphabet from A.\n",
        "\n",
        "A\n",
        "\n",
        "BC\n",
        "\n",
        "DEF\n",
        "\n",
        "GHIJ\n",
        "\n",
        "KLMNO"
      ],
      "metadata": {
        "id": "HinwqS4GsZGM"
      }
    },
    {
      "cell_type": "code",
      "source": [
        "n=int(input(\"Enter n: \"))\n",
        "current_char = ord('A')\n",
        "char_c = 1\n",
        "for i in range(1,n+1):\n",
        "  for j in range(char_c):\n",
        "    print(chr(current_char),end=\" \")\n",
        "    current_char+=1\n",
        "    if current_char>ord('Z'):\n",
        "      current_char=ord('A')\n",
        "  char_c+=1\n",
        "  print()"
      ],
      "metadata": {
        "colab": {
          "base_uri": "https://localhost:8080/"
        },
        "id": "-E8M2aGeDij5",
        "outputId": "3d57cc42-852d-43a3-fed8-4d9b3a4a5633"
      },
      "execution_count": null,
      "outputs": [
        {
          "output_type": "stream",
          "name": "stdout",
          "text": [
            "Enter n: 13\n",
            "A \n",
            "B C \n",
            "D E F \n",
            "G H I J \n",
            "K L M N O \n",
            "P Q R S T U \n",
            "V W X Y Z A B \n",
            "C D E F G H I J \n",
            "K L M N O P Q R S \n",
            "T U V W X Y Z A B C \n",
            "D E F G H I J K L M N \n",
            "O P Q R S T U V W X Y Z \n",
            "A B C D E F G H I J K L M \n"
          ]
        }
      ]
    },
    {
      "cell_type": "markdown",
      "source": [
        "6. Write a python program to print the prime numbers for a user input range."
      ],
      "metadata": {
        "id": "E0MD8atQEti2"
      }
    },
    {
      "cell_type": "code",
      "source": [
        "l = int(input(\"Enter the lower limit of range\"))\n",
        "h = int(input(\"Enter the upper limit of range\"))\n",
        "for i in range(l,h):\n",
        "  f=1\n",
        "  for j in range(2,int(i/2)+1):\n",
        "    if i%j==0:\n",
        "      f=0\n",
        "      break\n",
        "  if f==1:\n",
        "    print(i,end=\" \")"
      ],
      "metadata": {
        "colab": {
          "base_uri": "https://localhost:8080/"
        },
        "id": "gXqvz9OwEsvC",
        "outputId": "6dc7ed5c-2427-4052-8c36-7a4184b610f1"
      },
      "execution_count": null,
      "outputs": [
        {
          "output_type": "stream",
          "name": "stdout",
          "text": [
            "Enter the lower limit of range4\n",
            "Enter the upper limit of range64\n",
            "5 7 11 13 17 19 23 29 31 37 41 43 47 53 59 61 "
          ]
        }
      ]
    },
    {
      "cell_type": "markdown",
      "source": [
        "7. Write a python program to find the numbers which are multiple of 7 and divisible by 11 in the range\n",
        "1-500."
      ],
      "metadata": {
        "id": "qM8lloN8GLWL"
      }
    },
    {
      "cell_type": "code",
      "source": [
        "for i in range(1,500):\n",
        "  if i%7==0 and i%11==0:\n",
        "    print(i,end=\" \")"
      ],
      "metadata": {
        "colab": {
          "base_uri": "https://localhost:8080/"
        },
        "id": "AWFDsBPNGNn2",
        "outputId": "ebcf4093-2fdb-4bd9-c473-bef3a557afb6"
      },
      "execution_count": null,
      "outputs": [
        {
          "output_type": "stream",
          "name": "stdout",
          "text": [
            "77 154 231 308 385 462 "
          ]
        }
      ]
    },
    {
      "cell_type": "markdown",
      "source": [
        "8. Input 10 integer values from the user. Write a python program to find and print the following:\n",
        "\n",
        "a. positive numbers\n",
        "\n",
        "b. negative numbers\n",
        "\n",
        "c. odd numbers\n",
        "\n",
        "d. even numbers\n",
        "\n",
        "e. Number of times each number occurs in the List"
      ],
      "metadata": {
        "id": "1TstMgpPGehI"
      }
    },
    {
      "cell_type": "code",
      "source": [
        "i=0\n",
        "num={}\n",
        "p_num=[]\n",
        "n_num=[]\n",
        "o_num=[]\n",
        "e_num=[]\n",
        "c_num={}\n",
        "while(i<10):\n",
        "  num[i]=int(input(\"Enter the number: \"))\n",
        "  if num[i]>=0:\n",
        "    p_num.append(num[i])\n",
        "  else:\n",
        "    n_num.append(num[i])\n",
        "  if num[i]%2==0:\n",
        "    e_num.append(num[i])\n",
        "  else:\n",
        "    o_num.append(num[i])\n",
        "  if num[i] in c_num:\n",
        "    c_num[num[i]]+=1\n",
        "  else:\n",
        "    c_num[num[i]]=1\n",
        "  i+=1\n",
        "print(\"Positive Numbers: \",p_num)\n",
        "print(\"Negative Numbers: \",n_num)\n",
        "print(\"Even Numbers: \",e_num)\n",
        "print(\"Odd Numbers: \",o_num)\n",
        "\n",
        "print(\"Number Count:\\n\")\n",
        "for i in c_num:\n",
        "  print(f\"{i} : {c_num[i]}\")"
      ],
      "metadata": {
        "id": "CJXJPVxjGjAR",
        "colab": {
          "base_uri": "https://localhost:8080/"
        },
        "outputId": "224064dd-e628-4162-8637-52e467f94f3e"
      },
      "execution_count": 6,
      "outputs": [
        {
          "output_type": "stream",
          "name": "stdout",
          "text": [
            "Enter the number: 46\n",
            "Enter the number: -746\n",
            "Enter the number: 2819\n",
            "Enter the number: 9129\n",
            "Enter the number: 453617\n",
            "Enter the number: -4659\n",
            "Enter the number: 98\n",
            "Enter the number: 2\n",
            "Enter the number: 7\n",
            "Enter the number: 1123\n",
            "Positive Numbers:  [46, 2819, 9129, 453617, 98, 2, 7, 1123]\n",
            "Negative Numbers:  [-746, -4659]\n",
            "Even Numbers:  [46, -746, 98, 2]\n",
            "Odd Numbers:  [2819, 9129, 453617, -4659, 7, 1123]\n",
            "Number Count:\n",
            "\n",
            "46 : 1\n",
            "-746 : 1\n",
            "2819 : 1\n",
            "9129 : 1\n",
            "453617 : 1\n",
            "-4659 : 1\n",
            "98 : 1\n",
            "2 : 1\n",
            "7 : 1\n",
            "1123 : 1\n"
          ]
        }
      ]
    },
    {
      "cell_type": "markdown",
      "source": [
        "9. Write a program to count the number of occurrences of each word in the list(List entered by the user)."
      ],
      "metadata": {
        "id": "Nf_Xv-bgoL6f"
      }
    },
    {
      "cell_type": "code",
      "source": [
        "word_list = input(\"Enter the list of words separated by space : \").split()\n",
        "word_count={}\n",
        "for w in word_list:\n",
        "  if w in word_count:\n",
        "    word_count[w]+=1\n",
        "  else:\n",
        "    word_count[w]=1;\n",
        "print(\"Word Count:\")\n",
        "for i in word_count:\n",
        "  print(f\"{i} : {word_count[i]}\")"
      ],
      "metadata": {
        "colab": {
          "base_uri": "https://localhost:8080/"
        },
        "id": "kIr0UvAEoPLf",
        "outputId": "516c18ea-f118-4a4e-cc14-f755818946ca"
      },
      "execution_count": 7,
      "outputs": [
        {
          "output_type": "stream",
          "name": "stdout",
          "text": [
            "Enter the list of words separated by space : Hello This is Python It is Easy and Understandable if you just get its basics right and to the core. So just Breathe and Do it!!!!!\n",
            "Word Count:\n",
            "Hello : 1\n",
            "This : 1\n",
            "is : 2\n",
            "Python : 1\n",
            "It : 1\n",
            "Easy : 1\n",
            "and : 3\n",
            "Understandable : 1\n",
            "if : 1\n",
            "you : 1\n",
            "just : 2\n",
            "get : 1\n",
            "its : 1\n",
            "basics : 1\n",
            "right : 1\n",
            "to : 1\n",
            "the : 1\n",
            "core. : 1\n",
            "So : 1\n",
            "Breathe : 1\n",
            "Do : 1\n",
            "it!!!!! : 1\n"
          ]
        }
      ]
    }
  ]
}